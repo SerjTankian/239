{
 "cells": [
  {
   "cell_type": "markdown",
   "metadata": {},
   "source": [
    "Задача следующая: <br>\n",
    "В x_train и y_train находится датасет из 3000 примеров. Каждый пример в x_train это набор физических измерений морского ушка(!), по этим измерениям нужно научиться предсказывать возраст этого организма, который указан в y_train. <br>\n",
    "x_train и y_train надо использовать чтобы обучить разные модели и валидировать их. Напоминаю прилизительный арсенал того что нужно использовать\\попробовать:\n",
    "- Выбор модели (LinearRegression, Ridge, Lasso, ElasticNet)\n",
    "- Настройка регуляризации alpha\n",
    "- Дизайн признаков - добавить степени, призведения или что-нибудь еще\n",
    "\n",
    "Потом с помощью самой лучшей модели надо построить предсказания для x_test, сохранить их в файл и отправить мне на почту, с названием файла  surname_test_prediction.npy . <br>\n",
    "У меня есть ответ для этих данных, я посчитаю R-score и на занятии обсудим лучшие решения.\n",
    "\n",
    "Ниже пример для дефолтной линейной регрессии."
   ]
  },
  {
   "cell_type": "code",
   "execution_count": 38,
   "metadata": {},
   "outputs": [],
   "source": [
    "import numpy as np"
   ]
  },
  {
   "cell_type": "code",
   "execution_count": 39,
   "metadata": {},
   "outputs": [],
   "source": [
    "x_train = np.load('./data/x_train.npy')\n",
    "y_train = np.load('./data/y_train.npy')\n",
    "\n",
    "x_test = np.load('./data/x_test.npy')"
   ]
  },
  {
   "cell_type": "code",
   "execution_count": 45,
   "metadata": {},
   "outputs": [],
   "source": [
    "from sklearn.linear_model import LinearRegression"
   ]
  },
  {
   "cell_type": "code",
   "execution_count": 46,
   "metadata": {},
   "outputs": [],
   "source": [
    "lr = LinearRegression()"
   ]
  },
  {
   "cell_type": "code",
   "execution_count": 47,
   "metadata": {},
   "outputs": [
    {
     "data": {
      "text/plain": [
       "LinearRegression(copy_X=True, fit_intercept=True, n_jobs=1, normalize=False)"
      ]
     },
     "execution_count": 47,
     "metadata": {},
     "output_type": "execute_result"
    }
   ],
   "source": [
    "lr.fit(x_train, y_train)"
   ]
  },
  {
   "cell_type": "code",
   "execution_count": 48,
   "metadata": {},
   "outputs": [],
   "source": [
    "y_pred = lr.predict(x_test)"
   ]
  },
  {
   "cell_type": "code",
   "execution_count": null,
   "metadata": {},
   "outputs": [],
   "source": []
  },
  {
   "cell_type": "markdown",
   "metadata": {},
   "source": [
    "Пример кросс валидации из sklearn"
   ]
  },
  {
   "cell_type": "code",
   "execution_count": 29,
   "metadata": {},
   "outputs": [],
   "source": [
    "from sklearn.model_selection import KFold"
   ]
  },
  {
   "cell_type": "markdown",
   "metadata": {},
   "source": [
    "создаем объект кросс валидации с 3 фолдами"
   ]
  },
  {
   "cell_type": "code",
   "execution_count": 30,
   "metadata": {},
   "outputs": [],
   "source": [
    "kfold = KFold(3)"
   ]
  },
  {
   "cell_type": "markdown",
   "metadata": {},
   "source": [
    "создаем массив для пробы"
   ]
  },
  {
   "cell_type": "code",
   "execution_count": 31,
   "metadata": {},
   "outputs": [],
   "source": [
    "l = np.array(['a', 'b', 'c', 'd', 'e', 'f'])"
   ]
  },
  {
   "cell_type": "markdown",
   "metadata": {},
   "source": [
    "теперь используем метод kfold.split(), чтобы получить индексы обучающей и проверочной части датасета. "
   ]
  },
  {
   "cell_type": "code",
   "execution_count": 34,
   "metadata": {},
   "outputs": [
    {
     "name": "stdout",
     "output_type": "stream",
     "text": [
      "train_index:  [2 3 4 5]\n",
      "test_index:  [0 1]\n",
      "train_data: ['c' 'd' 'e' 'f']\n",
      "test_data: ['a' 'b']\n",
      "\n",
      "\n",
      "train_index:  [0 1 4 5]\n",
      "test_index:  [2 3]\n",
      "train_data: ['a' 'b' 'e' 'f']\n",
      "test_data: ['c' 'd']\n",
      "\n",
      "\n",
      "train_index:  [0 1 2 3]\n",
      "test_index:  [4 5]\n",
      "train_data: ['a' 'b' 'c' 'd']\n",
      "test_data: ['e' 'f']\n",
      "\n",
      "\n"
     ]
    }
   ],
   "source": [
    "for train_index, validation_index in kfold.split(l):\n",
    "    print('train_index: ', train_index)\n",
    "    print('test_index: ', validation_index)\n",
    "    \n",
    "    train_data = l[train_index]\n",
    "    test_data = l[validation_index]\n",
    "    \n",
    "    print('train_data:', train_data)\n",
    "    print('test_data:', test_data)\n",
    "    \n",
    "    print(\"\\n\")"
   ]
  }
 ],
 "metadata": {
  "kernelspec": {
   "display_name": "Python 3",
   "language": "python",
   "name": "python3"
  },
  "language_info": {
   "codemirror_mode": {
    "name": "ipython",
    "version": 3
   },
   "file_extension": ".py",
   "mimetype": "text/x-python",
   "name": "python",
   "nbconvert_exporter": "python",
   "pygments_lexer": "ipython3",
   "version": "3.6.3"
  }
 },
 "nbformat": 4,
 "nbformat_minor": 2
}
