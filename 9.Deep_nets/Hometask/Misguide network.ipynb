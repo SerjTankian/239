{
 "cells": [
  {
   "cell_type": "markdown",
   "metadata": {},
   "source": [
    "## Описание\n",
    "\n",
    "Домашнее задание номер 2. Про обман сеток.\n",
    "\n",
    "Идея заключается в том, обученную сеть можно обмануть подсунув ей специальную картинку. Обмануть в данном случае означает, что сетка на картинке перестанет видеть то что дожна. \n",
    "Чтобы так сделать надо будет медленно менять картинку которую сеть классифицирует правильно в сторону неправильной классификации. "
   ]
  },
  {
   "cell_type": "code",
   "execution_count": 8,
   "metadata": {},
   "outputs": [],
   "source": [
    "import numpy as np\n",
    "import torch\n",
    "import matplotlib.pyplot as plt"
   ]
  },
  {
   "cell_type": "code",
   "execution_count": 9,
   "metadata": {},
   "outputs": [],
   "source": [
    "from IPython import display\n",
    "\n",
    "%matplotlib inline"
   ]
  },
  {
   "cell_type": "code",
   "execution_count": 10,
   "metadata": {},
   "outputs": [],
   "source": [
    "import torch.nn as nn\n",
    "import torch.nn.functional as F"
   ]
  },
  {
   "cell_type": "markdown",
   "metadata": {},
   "source": [
    "### Загружаем данные "
   ]
  },
  {
   "cell_type": "code",
   "execution_count": 4,
   "metadata": {},
   "outputs": [],
   "source": [
    "import pandas as pd\n",
    "\n",
    "data = pd.read_csv(\"../../6.Intro_to_NN/data/train.csv\")\n",
    "\n",
    "x = data[data.columns[1:]].values\n",
    "y = data[data.columns[0]].values"
   ]
  },
  {
   "cell_type": "code",
   "execution_count": 7,
   "metadata": {},
   "outputs": [],
   "source": [
    "x = x.reshape(-1, 28,28)"
   ]
  },
  {
   "cell_type": "code",
   "execution_count": 5,
   "metadata": {},
   "outputs": [],
   "source": [
    "from sklearn.model_selection import train_test_split\n",
    "\n",
    "x_tr, x_te, y_tr, y_te = train_test_split(x, y)"
   ]
  },
  {
   "cell_type": "markdown",
   "metadata": {},
   "source": [
    "Будьте внимательны, если вы используете GPU, все тензоры должны быть так или иначе отправленны туда. Например с помощью метода .cuda()"
   ]
  },
  {
   "cell_type": "code",
   "execution_count": null,
   "metadata": {},
   "outputs": [],
   "source": [
    "x_tr = torch.from_numpy(x_tr.astype(np.float32)).cuda()\n",
    "x_te = torch.from_numpy(x_te.astype(np.float32)).cuda()\n",
    "y_tr = torch.from_numpy(y_tr.astype(int)).cuda()\n",
    "y_te = torch.from_numpy(y_te.astype(int)).cuda()"
   ]
  },
  {
   "cell_type": "code",
   "execution_count": null,
   "metadata": {},
   "outputs": [],
   "source": [
    "x_tr = x_tr.reshape(x_tr.shape[0], 1, x_tr.shape[1], x_tr.shape[2])\n",
    "x_te = x_te.reshape(x_te.shape[0], 1, x_te.shape[1], x_te.shape[2])"
   ]
  },
  {
   "cell_type": "markdown",
   "metadata": {},
   "source": [
    "Код для загрузки батчей"
   ]
  },
  {
   "cell_type": "code",
   "execution_count": null,
   "metadata": {},
   "outputs": [],
   "source": [
    "def iterate_minibatches(x, y, batchsize, shuffle=True):\n",
    "    if shuffle:\n",
    "        indices = np.arange(x.shape[0])\n",
    "        np.random.shuffle(indices)\n",
    "    for start_idx in range(0, x.shape[0] - batchsize + 1, batchsize):\n",
    "        if shuffle:\n",
    "            excerpt = indices[start_idx:start_idx + batchsize]\n",
    "        else:\n",
    "            excerpt = slice(start_idx, start_idx + batchsize)\n",
    "        yield x[excerpt], y[excerpt]"
   ]
  },
  {
   "cell_type": "markdown",
   "metadata": {},
   "source": [
    "## Инициализируем сетку\n",
    "\n",
    "Подготовьте произвольную сверточную сетку для классификации всех 10-ти цифр. Можно использовать все что мы обсуждали ранее. \n",
    "\n",
    "Важно, чтобы сетка умела возвращать не только окончательные ответы после софтмакса, а еще результат до применения софтмакса (называется logit). "
   ]
  },
  {
   "cell_type": "code",
   "execution_count": null,
   "metadata": {
    "scrolled": true
   },
   "outputs": [],
   "source": [
    "class Net(nn.Module):\n",
    "\n",
    "    def __init__(self):\n",
    "        super(Net, self).__init__()\n",
    "        \n",
    "        *YOUR CODE HERE*\n",
    "        \n",
    "    def get_logits(self, x):\n",
    "        \n",
    "        *ФУНКЦИЯ ПРОГОНЯЕТ х ЧЕРЕЗ ВСЮ СЕТКУ, НЕ ПРИМЕНЯЕТ ТОЛЬКО СОФТМАКС В КОНЦЕ*\n",
    "        *YOUR CODE HERE*\n",
    "        \n",
    "       \n",
    "        \n",
    "    def forward(self, x):\n",
    "        return F.softmax(self.get_logits(x), dim = 1)\n",
    "\n",
    "\n",
    "net = Net()#.cuda()\n",
    "print(net)"
   ]
  },
  {
   "cell_type": "markdown",
   "metadata": {},
   "source": [
    "## Обучение\n",
    "\n",
    "Ниже стандартный код для обучения. Обучите сетку на всем датасете"
   ]
  },
  {
   "cell_type": "code",
   "execution_count": null,
   "metadata": {},
   "outputs": [],
   "source": [
    "from torch.optim import Adam, SGD"
   ]
  },
  {
   "cell_type": "code",
   "execution_count": null,
   "metadata": {},
   "outputs": [],
   "source": [
    "criterion = *YOUR CODE HERE*\n",
    "sgd = *YOUR CODE HERE*"
   ]
  },
  {
   "cell_type": "code",
   "execution_count": null,
   "metadata": {},
   "outputs": [],
   "source": [
    "train_losses = []\n",
    "val_losses = []"
   ]
  },
  {
   "cell_type": "code",
   "execution_count": null,
   "metadata": {},
   "outputs": [],
   "source": [
    "epochs = 50"
   ]
  },
  {
   "cell_type": "code",
   "execution_count": null,
   "metadata": {
    "scrolled": true
   },
   "outputs": [],
   "source": [
    "for epoch in range(epochs):\n",
    "    batch_losses = []\n",
    "    for i, (batch_x, batch_y) in enumerate(iterate_minibatches(x_tr[:], y_tr[:], 20)):       \n",
    "        out = net(batch_x)\n",
    "        target = batch_y\n",
    "\n",
    "        sgd.zero_grad()\n",
    "        loss = criterion(out, target)\n",
    "\n",
    "        loss.backward()\n",
    "        sgd.step()\n",
    "        \n",
    "        batch_losses.append(loss.item())\n",
    "\n",
    "    train_losses.append(np.mean(batch_losses))\n",
    "    \n",
    "    val_losses.append(criterion(net(x_te), y_te).item())\n",
    "\n",
    "    \n",
    "    display.clear_output(wait=True)\n",
    "    plt.plot(train_losses, label='train')\n",
    "    plt.plot(val_losses, label='val')\n",
    "    plt.legend()\n",
    "    plt.show()"
   ]
  },
  {
   "cell_type": "code",
   "execution_count": null,
   "metadata": {},
   "outputs": [],
   "source": []
  },
  {
   "cell_type": "markdown",
   "metadata": {},
   "source": [
    "## Теперь начнем обман.\n",
    "\n",
    "Выберете произвольный пример из тестовой выборки, который сетка достаточно увернено и правильно классифицирует. И включите градиенты для этой картинки "
   ]
  },
  {
   "cell_type": "code",
   "execution_count": null,
   "metadata": {},
   "outputs": [],
   "source": [
    "example_image = *YOUR CODE HERE*\n",
    "*YOUR CODE HERE*"
   ]
  },
  {
   "cell_type": "markdown",
   "metadata": {},
   "source": [
    "Давайте поставим себе задачу сделать так, чтобы та же самая сетка эту картинку классифицировала неверно. Выберите произвольный другой ответ для этой цифры. Напимер если была восьмерка, давайте заствим сеть думать, что это четверка. \n",
    "\n",
    "Теперь будем менять картинку так чтобы сетка начала ошибаться. Для этого надо будет посчитать производную выходного нейрона отвечающего за желаемую цифру (четверку) по исходной картинке, а дальше немного обновить картинку в сторону увеличения этого выходного нейрона (четверки).\n",
    "\n",
    "Сначала забросим картинку в сеть и выведем логиты, а не ответ, чтобы софтмакс не убил градиенты."
   ]
  },
  {
   "cell_type": "code",
   "execution_count": null,
   "metadata": {},
   "outputs": [],
   "source": [
    "logits = net.get_logits(example_image)"
   ]
  },
  {
   "cell_type": "markdown",
   "metadata": {},
   "source": [
    "Теперь нужно сделать logits.backward(), но просто так он не заработает, потому что logits это вектор и backward() не будет знать производные какого из элементов хочется посчитать. \n",
    "\n",
    "Для таких ситуаций у backward() можно передать на вход тензор такой же формы, как тот от которого bacward вызвана c коэффициентами. И итоговые градиенты будут суммой градиентов от кадого элемента тензора от которого вызвана backward, умноженными на соответствующие коэффициенты. \n",
    "\n",
    "Пример:"
   ]
  },
  {
   "cell_type": "code",
   "execution_count": 57,
   "metadata": {},
   "outputs": [],
   "source": [
    "x = torch.ones((2,2), requires_grad=True)\n",
    "y = torch.rand((2,2), requires_grad=True)"
   ]
  },
  {
   "cell_type": "code",
   "execution_count": 58,
   "metadata": {
    "scrolled": true
   },
   "outputs": [
    {
     "name": "stdout",
     "output_type": "stream",
     "text": [
      "tensor([[1., 1.],\n",
      "        [1., 1.]], requires_grad=True)\n",
      "tensor([[0.1841, 0.3100],\n",
      "        [0.1226, 0.4917]], requires_grad=True)\n"
     ]
    }
   ],
   "source": [
    "print(x)\n",
    "print(y)"
   ]
  },
  {
   "cell_type": "code",
   "execution_count": 59,
   "metadata": {
    "scrolled": true
   },
   "outputs": [
    {
     "name": "stdout",
     "output_type": "stream",
     "text": [
      "tensor([[0.3067, 0.8016],\n",
      "        [0.3067, 0.8016]], grad_fn=<MmBackward>)\n",
      "tensor([[0.4941, 0.6143],\n",
      "        [0.4941, 0.6143]])\n",
      "tensor([[2., 2.],\n",
      "        [2., 2.]])\n"
     ]
    }
   ],
   "source": [
    "z = x.mm(y)\n",
    "print(z)\n",
    "z.backward(torch.ones(2,2))\n",
    "\n",
    "print(x.grad)\n",
    "print(y.grad)"
   ]
  },
  {
   "cell_type": "code",
   "execution_count": 60,
   "metadata": {
    "scrolled": false
   },
   "outputs": [
    {
     "data": {
      "text/plain": [
       "tensor([[0., 0.],\n",
       "        [0., 0.]])"
      ]
     },
     "execution_count": 60,
     "metadata": {},
     "output_type": "execute_result"
    }
   ],
   "source": [
    "x.grad.zero_()\n",
    "y.grad.zero_()"
   ]
  },
  {
   "cell_type": "code",
   "execution_count": 61,
   "metadata": {},
   "outputs": [
    {
     "name": "stdout",
     "output_type": "stream",
     "text": [
      "tensor([[0.3067, 0.8016],\n",
      "        [0.3067, 0.8016]], grad_fn=<MmBackward>)\n",
      "tensor([[0.1841, 0.1226],\n",
      "        [0.0000, 0.0000]])\n",
      "tensor([[1., 0.],\n",
      "        [1., 0.]])\n"
     ]
    }
   ],
   "source": [
    "z = x.mm(y)\n",
    "print(z)\n",
    "z.backward(torch.from_numpy(np.array([[1.,0.], [0., 0.]]).astype(np.float32)))\n",
    "\n",
    "print(x.grad)\n",
    "print(y.grad)"
   ]
  },
  {
   "cell_type": "markdown",
   "metadata": {},
   "source": [
    "Соответственно, чтобы нам посчитать градиенты нужного выходного нейрона по картинке нужно вызвать logits.backward() и передать туда тензор такой же формы как logits, такой чтобы остались только нужные производные."
   ]
  },
  {
   "cell_type": "code",
   "execution_count": null,
   "metadata": {},
   "outputs": [],
   "source": [
    "logits.backward(*YOUR CODE HERE*)"
   ]
  },
  {
   "cell_type": "markdown",
   "metadata": {},
   "source": [
    "Теперь осталось обновлять картинку в цикле, пока сеть не начнет думать, что это новая цифра с вероятность 70-80%"
   ]
  },
  {
   "cell_type": "code",
   "execution_count": null,
   "metadata": {},
   "outputs": [],
   "source": [
    "while *YOUR CODE HERE*:\n",
    "    logits = net.get_logits(example_image)\n",
    "    logits.backward(*YOUR CODE HERE*)\n",
    "    \n",
    "    example_image.data = *YOUR CODE HERE*\n",
    "    example_image.grad.zero_()\n",
    "    \n",
    "    "
   ]
  },
  {
   "cell_type": "code",
   "execution_count": null,
   "metadata": {},
   "outputs": [],
   "source": []
  },
  {
   "cell_type": "markdown",
   "metadata": {},
   "source": [
    "Теперь нарисуйте получившееся изображение используя plt.imshow() и присылайте в чат."
   ]
  }
 ],
 "metadata": {
  "kernelspec": {
   "display_name": "Python 3",
   "language": "python",
   "name": "python3"
  },
  "language_info": {
   "codemirror_mode": {
    "name": "ipython",
    "version": 3
   },
   "file_extension": ".py",
   "mimetype": "text/x-python",
   "name": "python",
   "nbconvert_exporter": "python",
   "pygments_lexer": "ipython3",
   "version": "3.6.3"
  }
 },
 "nbformat": 4,
 "nbformat_minor": 2
}
