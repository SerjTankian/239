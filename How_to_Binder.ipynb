{
 "cells": [
  {
   "cell_type": "markdown",
   "metadata": {},
   "source": [
    "# Binder + GitHub"
   ]
  },
  {
   "cell_type": "markdown",
   "metadata": {},
   "source": [
    "## Или как миновать установку Ubuntu"
   ]
  },
  {
   "cell_type": "markdown",
   "metadata": {},
   "source": [
    "<a href=\"https://mybinder.org/\">Binder</a> - это сервис, способный открывать ноутбуки, лежащие в репозиториях <a href=\"https://github.com/\">GitHub</a>'а. Он не сохраняет их, а только предоставляет возможность их открыть, редактировать и запускать. "
   ]
  },
  {
   "cell_type": "markdown",
   "metadata": {},
   "source": [
    "Чтобы использовать их связку, необходимо:\n",
    "<ol><li> <a href=\"https://github.com/join?source=header-home\">Зарегистрироваться</a> на GitHub</li>\n",
    "<li> Создать репозиторий</li>\n",
    "<li> Клонировать его себе на компьютер (если это не было сделано при создании)(чтобы не заморачиваться с командной строкой, можно скачать <a href=\"https://desktop.github.com/\">GitHub Desktop</a>)</li>\n",
    "<li> Создать папку binder в корне репозитория</li>\n",
    "<li> В ней файл requirements.txt</li>\n",
    "<li> Записать туда версии пакетов, которые будут использоваться (можно скопировать ниже)(а можно и скопировать из <a href=\"https://github.com/rykachevskiy/239/tree/master/binder\">аналогичной папки репозитория курса</a>)</li></ol>"
   ]
  },
  {
   "cell_type": "markdown",
   "metadata": {},
   "source": [
    "numpy==1.14.5<br>\n",
    "matplotlib==2.1.0<br>\n",
    "pandas==0.23.4<br>\n",
    "scikit-learn>=0.18<br>\n",
    "scipy>=0.15.1'<br>"
   ]
  },
  {
   "cell_type": "markdown",
   "metadata": {},
   "source": [
    "<ol start=\"7\">\n",
    "<li> Скопировать url-адрес своего репозитория</li>\n",
    "<li> Вставить его <a href=\"https://mybinder.org/\">сюда</a></li>\n",
    "<li> Скопировать ссылку и записать ее куда-нибудь (например, в закладки браузера)</li>    \n",
    "</ol>"
   ]
  },
  {
   "cell_type": "markdown",
   "metadata": {},
   "source": [
    "Чтобы теперь этим пользоваться, необходимо открыть эту ссылку. Каждый раз, когда к серверу обращаются через нее, он создает <b>копию</b> указанного в ссылке репозитория и предоставляет к ней доступ. Ее можно редактировать и запускать, однако при выходе изменения не сохранятся "
   ]
  },
  {
   "cell_type": "markdown",
   "metadata": {},
   "source": [
    "Чтобы это исправить, в меню <i>File</i> существует пункт <i>Download as</i>. В нем выбираем <i>Notebook(.ipynb)</i> "
   ]
  },
  {
   "cell_type": "markdown",
   "metadata": {},
   "source": [
    "Теперь у нас есть файл на компьютере. Его можно залить на GitHub, открыв необходимую папку через сайт и найдя кнопку <i>Upload Files</i>"
   ]
  },
  {
   "cell_type": "markdown",
   "metadata": {},
   "source": [
    "Теперь прогресс сохранен, и измененный файл доступен по той же ссылке. Это, однако, не повлияет на уже открытую <b>копию</b>, так как она не синхронизируется с GitHub'ом"
   ]
  }
 ],
 "metadata": {
  "kernelspec": {
   "display_name": "Python 3",
   "language": "python",
   "name": "python3"
  },
  "language_info": {
   "codemirror_mode": {
    "name": "ipython",
    "version": 3
   },
   "file_extension": ".py",
   "mimetype": "text/x-python",
   "name": "python",
   "nbconvert_exporter": "python",
   "pygments_lexer": "ipython3",
   "version": "3.6.5"
  }
 },
 "nbformat": 4,
 "nbformat_minor": 2
}
