{
 "cells": [
  {
   "cell_type": "markdown",
   "metadata": {},
   "source": [
    "Что я хочу рассказать по машинке:\n",
    "- Линейная регрессия + регуляризация (l1, l2)\n",
    "- Логрегрессия\n",
    "- Кроссвалидация\n",
    "- SVM\n",
    "\n",
    "- Решающие деревья \n",
    "- Ансамбли\n",
    "- Бустинг(?)\n",
    "\n",
    "- Нейронные сети\n",
    "- Свертки"
   ]
  },
  {
   "cell_type": "markdown",
   "metadata": {},
   "source": [
    "<a href=\"https://github.com/taki0112/FusionGAN-Tensorflow\">FusionGAN-Tensorflow</a>"
   ]
  },
  {
   "cell_type": "markdown",
   "metadata": {},
   "source": [
    "<a href=\"https://github.com/albertpumarola/GANimation\">GANimation</a>"
   ]
  }
 ],
 "metadata": {
  "kernelspec": {
   "display_name": "Python 3",
   "language": "python",
   "name": "python3"
  },
  "language_info": {
   "codemirror_mode": {
    "name": "ipython",
    "version": 3
   },
   "file_extension": ".py",
   "mimetype": "text/x-python",
   "name": "python",
   "nbconvert_exporter": "python",
   "pygments_lexer": "ipython3",
   "version": "3.6.6"
  }
 },
 "nbformat": 4,
 "nbformat_minor": 2
}
