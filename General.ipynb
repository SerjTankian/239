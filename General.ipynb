{
 "cells": [
  {
   "cell_type": "markdown",
   "metadata": {},
   "source": [
    "Идеи по крутым фичам:\n",
    "- для категориальной фичи добавить средние значения y для каждой категории. https://www.youtube.com/watch?v=NVKDSNM702k . Аккуратно с переобучением. Должно быть двойное разбиение.\n",
    "- фичи очень зависят от модели, которую мы юзаем. Например, временные тренды бустинг не чувствует, надо руками. https://www.youtube.com/watch?v=iRwf7wIfEoI&list=PLpQWTe-45nxL3bhyAJMEs90KF_gZmuqtm&index=9\n",
    "- стандартизация или скайлинг в (0,1) для не деревьев.\n",
    "- отрезание аутлаеров по y(да и по х)от 1 перцентили до 99. особенно для линейных моделей\n",
    "- rank transformation\n",
    "- np log\n",
    "- дробная часть цены - восприятие человека\n",
    "- мапать многокатегориальные фичи в процентное соотношение\n",
    "- "
   ]
  },
  {
   "cell_type": "code",
   "execution_count": null,
   "metadata": {},
   "outputs": [],
   "source": []
  },
  {
   "cell_type": "code",
   "execution_count": null,
   "metadata": {},
   "outputs": [],
   "source": []
  },
  {
   "cell_type": "code",
   "execution_count": null,
   "metadata": {},
   "outputs": [],
   "source": []
  },
  {
   "cell_type": "code",
   "execution_count": null,
   "metadata": {},
   "outputs": [],
   "source": []
  },
  {
   "cell_type": "markdown",
   "metadata": {},
   "source": [
    "<a href=\"https://github.com/taki0112/FusionGAN-Tensorflow\">FusionGAN-Tensorflow</a>"
   ]
  },
  {
   "cell_type": "code",
   "execution_count": null,
   "metadata": {},
   "outputs": [],
   "source": []
  },
  {
   "cell_type": "code",
   "execution_count": null,
   "metadata": {},
   "outputs": [],
   "source": []
  },
  {
   "cell_type": "markdown",
   "metadata": {},
   "source": [
    "<a href=\"https://github.com/albertpumarola/GANimation\">GANimation</a>"
   ]
  }
 ],
 "metadata": {
  "kernelspec": {
   "display_name": "Python 3",
   "language": "python",
   "name": "python3"
  },
  "language_info": {
   "codemirror_mode": {
    "name": "ipython",
    "version": 3
   },
   "file_extension": ".py",
   "mimetype": "text/x-python",
   "name": "python",
   "nbconvert_exporter": "python",
   "pygments_lexer": "ipython3",
   "version": "3.6.3"
  }
 },
 "nbformat": 4,
 "nbformat_minor": 2
}
