{
 "cells": [
  {
   "cell_type": "markdown",
   "metadata": {},
   "source": [
    "В этом домашнем задании предлагается написать на торче линейную регрессию."
   ]
  },
  {
   "cell_type": "code",
   "execution_count": 4,
   "metadata": {},
   "outputs": [],
   "source": [
    "import numpy as np\n",
    "import matplotlib.pyplot as plt"
   ]
  },
  {
   "cell_type": "code",
   "execution_count": 5,
   "metadata": {},
   "outputs": [],
   "source": [
    "import torch"
   ]
  },
  {
   "cell_type": "markdown",
   "metadata": {},
   "source": [
    "## Одномерный случай"
   ]
  },
  {
   "cell_type": "markdown",
   "metadata": {},
   "source": [
    "Давайте начнем с одномерной линейной регрессии. "
   ]
  },
  {
   "cell_type": "code",
   "execution_count": 6,
   "metadata": {},
   "outputs": [],
   "source": [
    "from sklearn.datasets import make_regression\n",
    "from sklearn.model_selection import train_test_split"
   ]
  },
  {
   "cell_type": "code",
   "execution_count": 7,
   "metadata": {},
   "outputs": [],
   "source": [
    "x, y = make_regression(n_features=1, n_informative=1, noise=10)"
   ]
  },
  {
   "cell_type": "code",
   "execution_count": 8,
   "metadata": {},
   "outputs": [
    {
     "data": {
      "text/plain": [
       "<matplotlib.collections.PathCollection at 0x7f8c75bec3c8>"
      ]
     },
     "execution_count": 8,
     "metadata": {},
     "output_type": "execute_result"
    },
    {
     "data": {
      "image/png": "[encoded data removed]",
      "text/plain": [
       "<matplotlib.figure.Figure at 0x7f8cb95a8da0>"
      ]
     },
     "metadata": {},
     "output_type": "display_data"
    }
   ],
   "source": [
    "plt.scatter(x, y)"
   ]
  },
  {
   "cell_type": "code",
   "execution_count": 9,
   "metadata": {},
   "outputs": [],
   "source": [
    "x_tr, x_te, y_tr, y_te = train_test_split(x, y)"
   ]
  },
  {
   "cell_type": "code",
   "execution_count": null,
   "metadata": {},
   "outputs": [],
   "source": []
  },
  {
   "cell_type": "markdown",
   "metadata": {},
   "source": [
    "Одномерная линейная регрессия выглядит следующим образом: $$ y = w * x + b $$\n",
    "\n",
    "Здесь $w$ и $b$ - параметры которые мы хотим настроить.\n",
    "\n",
    "В torch все такие параметры должны быть torch тензорами.\n",
    "\n",
    "#### План:\n",
    "- Инициализировать случайные $w$ и $b$ - torch тензоры\n",
    "- Переделать x_tr, x_te, y_tr, y_te в torch тензоры\n",
    "- Задать функцию ошибки ( среднее квадратичное отклонение, MSE)\n",
    "- Несколько эпох обновлять параметры $w$ и $b$, используя оптимизатор из торча (SGD) \n"
   ]
  },
  {
   "cell_type": "code",
   "execution_count": null,
   "metadata": {},
   "outputs": [],
   "source": [
    "w = *YOUR CODE HERE*\n",
    "b = *YOUR CODE HERE*\n",
    "x_tr = *YOUR CODE HERE*\n",
    "x_te = *YOUR CODE HERE*\n",
    "y_tr = *YOUR CODE HERE*\n",
    "y_te = *YOUR CODE HERE*"
   ]
  },
  {
   "cell_type": "markdown",
   "metadata": {},
   "source": [
    "Оптимизаторы в torch лежат в torch.optim. Используем SGD. На вход ему надо передать список или словарь тензоров, которые нужно обновлять, и learning rate ($\\alpha$) $$ w^{t+1} = w^{t} - \\alpha \\frac{\\partial L}{\\partial w} $$"
   ]
  },
  {
   "cell_type": "code",
   "execution_count": 11,
   "metadata": {},
   "outputs": [],
   "source": [
    "from torch.optim import SGD"
   ]
  },
  {
   "cell_type": "code",
   "execution_count": null,
   "metadata": {},
   "outputs": [],
   "source": [
    "sgd = SGD(*YOUR CODE HERE*)"
   ]
  },
  {
   "cell_type": "markdown",
   "metadata": {},
   "source": [
    "Разные функции ошибки есть в torch.nn. Нам нужна средне квадратичная ошибка. "
   ]
  },
  {
   "cell_type": "code",
   "execution_count": 13,
   "metadata": {},
   "outputs": [],
   "source": [
    "from torch.nn import MSELoss"
   ]
  },
  {
   "cell_type": "code",
   "execution_count": 14,
   "metadata": {},
   "outputs": [],
   "source": [
    "loss_function = MSELoss()"
   ]
  },
  {
   "cell_type": "markdown",
   "metadata": {},
   "source": [
    "В основном цикле обучения надо действовать следующим образом  (см ноутбук torch_intro)\n",
    "- Пересчитать y_pred c учетом w и b\n",
    "- Посчитать loss используя MSEloss(), и сохранить\n",
    "- Посчитать производные $ \\frac{\\partial L}{\\partial w} $ и $ \\frac{\\partial L}{\\partial b} $. Для этого в torch есть функция backward(). Которую нужно вызвать от loss. \n",
    "- Сделать шаг обновлений используя sgd.step()\n",
    "- Обнулить градиенты (потому что backward() их аккумулирует, а не обновляет)\n",
    "\n",
    "- посчитать loss на тесте и сохранить"
   ]
  },
  {
   "cell_type": "code",
   "execution_count": null,
   "metadata": {},
   "outputs": [],
   "source": [
    "n_epochs = 100\n",
    "train_losses = []\n",
    "test_losses = []\n",
    "\n",
    "\n",
    "for e in range(n_epochs):\n",
    "    y_pred = *YOUR CODE HERE*\n",
    "    loss = *YOUR CODE HERE*\n",
    "    train_losses.append(loss.item()) #эта строчка сохраняет величину лосс в список \n",
    "    \n",
    "    loss.backward() #пересчитали производные\n",
    "    \n",
    "    sgd.step()\n",
    "    sgd.zero_grad()\n",
    "    \n",
    "    test_loss = *YOUR CODE HERE*\n",
    "    test_losses.append(test_loss.item())"
   ]
  },
  {
   "cell_type": "markdown",
   "metadata": {},
   "source": [
    "1. Постройте графики ошибки на трейне и на тесте. \n",
    "\n",
    "2. Постройте график прямой на картинке с данными, убедитесь, что все ок"
   ]
  },
  {
   "cell_type": "markdown",
   "metadata": {},
   "source": [
    "## 2 Ridge\n",
    "Сделайте из обычной регрессии RIdge. Для этого нужно в  loss добавить квадраты настраиваемых параметров, с каким-нибудь коэффициентом."
   ]
  },
  {
   "cell_type": "code",
   "execution_count": null,
   "metadata": {},
   "outputs": [],
   "source": [
    "*YOUR CODE HERE*"
   ]
  },
  {
   "cell_type": "code",
   "execution_count": null,
   "metadata": {},
   "outputs": [],
   "source": []
  },
  {
   "cell_type": "markdown",
   "metadata": {},
   "source": [
    "## 3  Много параметрическая линейная регрессия\n",
    "Обновите код, чтобы можно было сделать многопараметрическую регрессию."
   ]
  },
  {
   "cell_type": "code",
   "execution_count": 15,
   "metadata": {},
   "outputs": [],
   "source": [
    "n_features = 20"
   ]
  },
  {
   "cell_type": "code",
   "execution_count": 16,
   "metadata": {},
   "outputs": [],
   "source": [
    "x, y = make_regression(n_samples=1000, n_features=n_features, n_informative=1, noise=10)"
   ]
  },
  {
   "cell_type": "code",
   "execution_count": 8,
   "metadata": {},
   "outputs": [
    {
     "data": {
      "text/plain": [
       "<matplotlib.collections.PathCollection at 0x7f8c75bec3c8>"
      ]
     },
     "execution_count": 8,
     "metadata": {},
     "output_type": "execute_result"
    },
    {
     "data": {
      "image/png": "[encoded data removed]",
      "text/plain": [
       "<matplotlib.figure.Figure at 0x7f8cb95a8da0>"
      ]
     },
     "metadata": {},
     "output_type": "display_data"
    }
   ],
   "source": [
    "plt.scatter(x, y)"
   ]
  },
  {
   "cell_type": "code",
   "execution_count": 9,
   "metadata": {},
   "outputs": [],
   "source": [
    "x_tr, x_te, y_tr, y_te = train_test_split(x, y)"
   ]
  },
  {
   "cell_type": "markdown",
   "metadata": {},
   "source": [
    "Теперь регрессия выглядит так $$ y = x * \\theta^T + b $$\n",
    "\n",
    "Где $b$ по прежнему одномерный, а $\\theta$ имеет размерность количества фичей. \n",
    "\n",
    "$ x * \\theta^T $ - это матричное умножение. В torch это будет выглядеть как x.mm(theta.T), где .mm - матрчиное умножение, а .T - транспонирование "
   ]
  },
  {
   "cell_type": "code",
   "execution_count": null,
   "metadata": {},
   "outputs": [],
   "source": []
  },
  {
   "cell_type": "code",
   "execution_count": null,
   "metadata": {},
   "outputs": [],
   "source": []
  },
  {
   "cell_type": "markdown",
   "metadata": {},
   "source": [
    "## 4 SGD\n",
    "До этого мы использовали все данные, чтобы учиться на каждой эпохе (в каждом цикле). Сделайте так, чтобы внутри большого цикла был второй цикл, который разбивал данные на несколько пачек размером batch_size и проходил по ним другим циклом в случайном порядке. Для этого подойдет np.split и np.random.shuffle"
   ]
  },
  {
   "cell_type": "code",
   "execution_count": null,
   "metadata": {},
   "outputs": [],
   "source": []
  },
  {
   "cell_type": "code",
   "execution_count": null,
   "metadata": {},
   "outputs": [],
   "source": [
    "n_epochs = 100\n",
    "batch_size = \n",
    "train_losses = []\n",
    "test_losses = []\n",
    "\n",
    "\n",
    "for e in range(n_epochs):\n",
    "    batches = *YOUR CODE HERE*\n",
    "    \n",
    "    batch_losses = []\n",
    "    for batch in batches:\n",
    "        y_pred_batch = *YOUR CODE HERE*\n",
    "        batch_loss = *YOUR CODE HERE*\n",
    "        batch_losses.append(batch_loss.item()) #эта строчка сохраняет величину лосс в список \n",
    "\n",
    "        batch_loss.backward() #пересчитали производные\n",
    "\n",
    "        sgd.step()\n",
    "        sgd.zero_grad()\n",
    "\n",
    "    train_losses.append(np.mean(batch_losses))\n",
    "    \n",
    "    test_loss = *YOUR CODE HERE*\n",
    "    test_losses.append(test_loss.item())"
   ]
  }
 ],
 "metadata": {
  "kernelspec": {
   "display_name": "Python 3",
   "language": "python",
   "name": "python3"
  },
  "language_info": {
   "codemirror_mode": {
    "name": "ipython",
    "version": 3
   },
   "file_extension": ".py",
   "mimetype": "text/x-python",
   "name": "python",
   "nbconvert_exporter": "python",
   "pygments_lexer": "ipython3",
   "version": "3.6.3"
  }
 },
 "nbformat": 4,
 "nbformat_minor": 2
}
