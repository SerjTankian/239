{
 "cells": [
  {
   "cell_type": "code",
   "execution_count": 2,
   "metadata": {},
   "outputs": [],
   "source": [
    "import numpy as np"
   ]
  },
  {
   "cell_type": "markdown",
   "metadata": {},
   "source": [
    "Для работы с умножением, транспонированием, нахождением обратных для матриц в numpy есть модуль np.linalg\n",
    "\n",
    "Матричное умноженние называется dot poduct, соответственно в numpy это функция dot "
   ]
  },
  {
   "cell_type": "markdown",
   "metadata": {},
   "source": [
    "Создайте две рандомные матрицы 2х2 из целых чисел в диапазоне от 0 до 2 (чтобы легче было проверять результат). Воспользуйтесь для этого функцией np.random.randint"
   ]
  },
  {
   "cell_type": "code",
   "execution_count": 14,
   "metadata": {
    "scrolled": true
   },
   "outputs": [
    {
     "name": "stdout",
     "output_type": "stream",
     "text": [
      "First matrix:\n",
      " [[0 1]\n",
      " [0 1]] \n",
      "Second matrix:\n",
      " [[2 1]\n",
      " [1 2]]\n"
     ]
    }
   ],
   "source": [
    "m1 = *YOUR CODE HERE*\n",
    "m2 = *YOUR CODE HERE*\n",
    "print(\"First matrix:\\n\", m1, \"\\nSecond matrix:\\n\", m2)"
   ]
  },
  {
   "cell_type": "markdown",
   "metadata": {},
   "source": [
    "Сделаем еще и вектор на который будем умножать"
   ]
  },
  {
   "cell_type": "code",
   "execution_count": 30,
   "metadata": {},
   "outputs": [],
   "source": [
    "v = np.array([1, 2])"
   ]
  },
  {
   "cell_type": "markdown",
   "metadata": {},
   "source": [
    "###  Матричное умножение"
   ]
  },
  {
   "cell_type": "markdown",
   "metadata": {},
   "source": [
    "Умножьте матрицы m1 и m2 сначала поэлементно, а затем как матрицы используя np.dot. Зависит ли матричное умножение от порядка матриц?"
   ]
  },
  {
   "cell_type": "code",
   "execution_count": null,
   "metadata": {},
   "outputs": [],
   "source": [
    "*YOUR CODE HERE*"
   ]
  },
  {
   "cell_type": "markdown",
   "metadata": {},
   "source": [
    "Умножьте матрично m1 на v "
   ]
  },
  {
   "cell_type": "code",
   "execution_count": null,
   "metadata": {},
   "outputs": [],
   "source": [
    "*YOUR CODE HERE*"
   ]
  },
  {
   "cell_type": "markdown",
   "metadata": {},
   "source": [
    "Единичную матрицу в numpy можно создать с помощью np.eye. Создайте ее и умножьте на m1 справа, слева и поэлементно, сравните результат."
   ]
  },
  {
   "cell_type": "code",
   "execution_count": null,
   "metadata": {},
   "outputs": [],
   "source": [
    "*YOUR CODE HERE*"
   ]
  },
  {
   "cell_type": "markdown",
   "metadata": {},
   "source": [
    "Транспонировать в numpy можно либо добавляя .T, например m1.T, либо используя np.transpose. Будьте внимательны, .T не работает на вектроы, только на матрицы. Потранспонируйте что-нибудь, покажите, что $ xM = (M^T x^T)^T$"
   ]
  },
  {
   "cell_type": "code",
   "execution_count": null,
   "metadata": {},
   "outputs": [],
   "source": [
    "*YOUR CODE HERE*"
   ]
  },
  {
   "cell_type": "markdown",
   "metadata": {},
   "source": [
    "Обратные матрицы можно находить используя np.linalg.inv . Будьте внимательны, таких матриц может не быть. Сгенерируйте такую матрицу у которой будет обратная и проверьте, что np.linalg.inv действительно возвращает обратную. Какая матрица будет обратной для E ? "
   ]
  },
  {
   "cell_type": "code",
   "execution_count": null,
   "metadata": {},
   "outputs": [],
   "source": [
    "*YOUR CODE HERE*"
   ]
  },
  {
   "cell_type": "code",
   "execution_count": null,
   "metadata": {},
   "outputs": [],
   "source": []
  }
 ],
 "metadata": {
  "kernelspec": {
   "display_name": "Python 3",
   "language": "python",
   "name": "python3"
  },
  "language_info": {
   "codemirror_mode": {
    "name": "ipython",
    "version": 3
   },
   "file_extension": ".py",
   "mimetype": "text/x-python",
   "name": "python",
   "nbconvert_exporter": "python",
   "pygments_lexer": "ipython3",
   "version": "3.6.3"
  }
 },
 "nbformat": 4,
 "nbformat_minor": 2
}
